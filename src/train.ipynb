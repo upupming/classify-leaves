{
 "cells": [
  {
   "cell_type": "code",
   "execution_count": null,
   "metadata": {},
   "outputs": [
    {
     "name": "stdout",
     "output_type": "stream",
     "text": [
      "Finished reading the train set of Leaves Dataset (18353 samples found)\n",
      "Training for fold 0/10...\n",
      "loaded model from ../models/fold=0-model.pth for resume training with current_epoch=98\n",
      "Epoch 98/200 training...\n"
     ]
    },
    {
     "data": {
      "application/vnd.jupyter.widget-view+json": {
       "model_id": "a4a8e19c46f34c5889f9241fd69cf869",
       "version_major": 2,
       "version_minor": 0
      },
      "text/plain": [
       "  0%|          | 0/130 [00:00<?, ?it/s]"
      ]
     },
     "metadata": {},
     "output_type": "display_data"
    },
    {
     "name": "stdout",
     "output_type": "stream",
     "text": [
      "9/130 loss:1.3884424686431884  acc:0.65078125\n",
      "19/130 loss:1.0285048484802246  acc:0.7234375\n",
      "29/130 loss:0.8772611091534297  acc:0.7544270833333333\n",
      "39/130 loss:0.7738103285431862  acc:0.778125\n",
      "49/130 loss:0.7112247794866562  acc:0.79265625\n"
     ]
    }
   ],
   "source": [
    "from train import train\n",
    "\n",
    "args = {\n",
    "    'batch_size': 128,\n",
    "    'model': 'seresnext50',\n",
    "    'freeze': False,\n",
    "    'eval_all': True,\n",
    "    'data_root': '../dataset/classify-leaves',\n",
    "    'val_ratio': 0.1,\n",
    "    'fold': 10,\n",
    "    'lr': 2e-5,\n",
    "    'epoch': 200,\n",
    "    'resume': True,\n",
    "    'verbose': True,\n",
    "    'ckpt_path': 'model.pth'\n",
    "}\n",
    "class AttributeDict(dict):\n",
    "    __slots__ = () \n",
    "    __getattr__ = dict.__getitem__\n",
    "    __setattr__ = dict.__setitem__\n",
    "args = AttributeDict(args)\n",
    "\n",
    "train(args)"
   ]
  },
  {
   "cell_type": "code",
   "execution_count": null,
   "metadata": {},
   "outputs": [],
   "source": []
  },
  {
   "cell_type": "code",
   "execution_count": null,
   "metadata": {},
   "outputs": [],
   "source": []
  }
 ],
 "metadata": {
  "kernelspec": {
   "display_name": "Python 3",
   "language": "python",
   "name": "python3"
  },
  "language_info": {
   "codemirror_mode": {
    "name": "ipython",
    "version": 3
   },
   "file_extension": ".py",
   "mimetype": "text/x-python",
   "name": "python",
   "nbconvert_exporter": "python",
   "pygments_lexer": "ipython3",
   "version": "3.8.8"
  }
 },
 "nbformat": 4,
 "nbformat_minor": 2
}
