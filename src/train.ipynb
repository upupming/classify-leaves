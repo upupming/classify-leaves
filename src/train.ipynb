{
 "cells": [
  {
   "cell_type": "code",
   "execution_count": 1,
   "metadata": {
    "scrolled": false
   },
   "outputs": [
    {
     "name": "stdout",
     "output_type": "stream",
     "text": [
      "Finished reading the train set of Leaves Dataset (18353 samples found)\n",
      "Training for fold 0/10...\n",
      "loaded model from /home/liyiming/projects/classify-leaves/src/../models/fold=0-model.pth for resume training with current_epoch=98\n",
      "Training for fold 1/10...\n",
      "loaded model from /home/liyiming/projects/classify-leaves/src/../models/fold=1-model.pth for resume training with current_epoch=99\n",
      "Training for fold 2/10...\n",
      "loaded model from /home/liyiming/projects/classify-leaves/src/../models/fold=2-model.pth for resume training with current_epoch=90\n",
      "Training for fold 3/10...\n",
      "loaded model from /home/liyiming/projects/classify-leaves/src/../models/fold=3-model.pth for resume training with current_epoch=20\n",
      "Epoch 20/30 training...\n"
     ]
    },
    {
     "data": {
      "application/vnd.jupyter.widget-view+json": {
       "model_id": "497bc2d6bd4d454796121c724ab9267b",
       "version_major": 2,
       "version_minor": 0
      },
      "text/plain": [
       "  0%|          | 0/130 [00:00<?, ?it/s]"
      ]
     },
     "metadata": {},
     "output_type": "display_data"
    },
    {
     "name": "stdout",
     "output_type": "stream",
     "text": [
      "9/130 loss:1.335951852798462  acc:0.90390625\n",
      "19/130 loss:1.3077259957790375  acc:0.9046875\n",
      "29/130 loss:1.2886873483657837  acc:0.9065104166666667\n",
      "39/130 loss:1.2654370278120042  acc:0.909765625\n",
      "49/130 loss:1.2521240997314453  acc:0.91\n",
      "59/130 loss:1.2342277427514394  acc:0.9140625\n",
      "69/130 loss:1.2204464401517596  acc:0.9175223214285714\n",
      "79/130 loss:1.205773238837719  acc:0.9212890625\n",
      "89/130 loss:1.1938014838430617  acc:0.9244791666666666\n",
      "99/130 loss:1.185203071832657  acc:0.926484375\n",
      "109/130 loss:1.1759260871193626  acc:0.9286931818181818\n",
      "119/130 loss:1.1707925885915755  acc:0.9291666666666667\n",
      "129/130 loss:1.1636319768415813  acc:0.9311660007264803\n",
      "train loss:1.1636319768415813 acc:0.9311660007264803\n",
      "acc:0.9253405991951841 acc5:0.9923705719472277\n",
      "Epoch 21/30 training...\n"
     ]
    },
    {
     "data": {
      "application/vnd.jupyter.widget-view+json": {
       "model_id": "35c880c0b6e4441a95196b20374e527c",
       "version_major": 2,
       "version_minor": 0
      },
      "text/plain": [
       "  0%|          | 0/130 [00:00<?, ?it/s]"
      ]
     },
     "metadata": {},
     "output_type": "display_data"
    },
    {
     "name": "stdout",
     "output_type": "stream",
     "text": [
      "9/130 loss:1.0839787364006042  acc:0.95\n",
      "19/130 loss:1.0887848317623139  acc:0.94609375\n",
      "29/130 loss:1.089139461517334  acc:0.9453125\n",
      "39/130 loss:1.0805893629789352  acc:0.9484375\n",
      "49/130 loss:1.0735941517353058  acc:0.9503125\n",
      "59/130 loss:1.0696979612112045  acc:0.951171875\n",
      "69/130 loss:1.0662581520421164  acc:0.9526785714285714\n",
      "79/130 loss:1.0655505143105983  acc:0.95361328125\n",
      "89/130 loss:1.063056293461058  acc:0.9537326388888889\n",
      "99/130 loss:1.0622846776247024  acc:0.953828125\n",
      "109/130 loss:1.061009299213236  acc:0.9544744318181818\n",
      "119/130 loss:1.0607875441511472  acc:0.9536458333333333\n",
      "129/130 loss:1.0602447874884668  acc:0.9542922872018405\n",
      "train loss:1.0602447874884668 acc:0.9542922872018405\n",
      "acc:0.9253405995524872 acc5:0.9945504087193461\n",
      "Epoch 22/30 training...\n"
     ]
    },
    {
     "data": {
      "application/vnd.jupyter.widget-view+json": {
       "model_id": "59f969b35d1e4828b49a7e4c89865492",
       "version_major": 2,
       "version_minor": 0
      },
      "text/plain": [
       "  0%|          | 0/130 [00:00<?, ?it/s]"
      ]
     },
     "metadata": {},
     "output_type": "display_data"
    },
    {
     "name": "stdout",
     "output_type": "stream",
     "text": [
      "9/130 loss:1.035868513584137  acc:0.9625\n",
      "19/130 loss:1.042731386423111  acc:0.95859375\n",
      "29/130 loss:1.0372238477071127  acc:0.959375\n",
      "39/130 loss:1.0373348534107207  acc:0.9599609375\n",
      "49/130 loss:1.037998490333557  acc:0.95921875\n",
      "59/130 loss:1.0355749199787776  acc:0.9604166666666667\n",
      "69/130 loss:1.0316497564315796  acc:0.9623883928571428\n",
      "79/130 loss:1.030760195851326  acc:0.962890625\n",
      "89/130 loss:1.029419978459676  acc:0.9637152777777778\n",
      "99/130 loss:1.028975875377655  acc:0.96359375\n",
      "109/130 loss:1.0281707758253271  acc:0.9636363636363636\n",
      "119/130 loss:1.0270809511343637  acc:0.9636067708333333\n",
      "129/130 loss:1.028130920101618  acc:0.96331274972757\n",
      "train loss:1.028130920101618 acc:0.96331274972757\n",
      "acc:0.9362397812367785 acc5:0.9967302452316076\n",
      "Epoch 23/30 training...\n"
     ]
    },
    {
     "data": {
      "application/vnd.jupyter.widget-view+json": {
       "model_id": "5106d8e9be7d42d3942a910b05501c24",
       "version_major": 2,
       "version_minor": 0
      },
      "text/plain": [
       "  0%|          | 0/130 [00:00<?, ?it/s]"
      ]
     },
     "metadata": {},
     "output_type": "display_data"
    },
    {
     "name": "stdout",
     "output_type": "stream",
     "text": [
      "9/130 loss:1.0074828326702119  acc:0.96015625\n",
      "19/130 loss:1.00432148873806  acc:0.96484375\n",
      "29/130 loss:1.0044244865576426  acc:0.9653645833333333\n",
      "39/130 loss:1.0050961166620254  acc:0.9654296875\n",
      "49/130 loss:1.0072795116901399  acc:0.96484375\n",
      "59/130 loss:1.0103356877962748  acc:0.9635416666666666\n",
      "69/130 loss:1.009763890504837  acc:0.9633928571428572\n",
      "79/130 loss:1.010515645891428  acc:0.9630859375\n",
      "89/130 loss:1.0092845777670543  acc:0.9633680555555556\n",
      "99/130 loss:1.0093559992313386  acc:0.96296875\n",
      "109/130 loss:1.0076196600090375  acc:0.9637073863636364\n",
      "119/130 loss:1.006042766571045  acc:0.964453125\n",
      "129/130 loss:1.0063070691458926  acc:0.9643419300157404\n",
      "train loss:1.0063070691458926 acc:0.9643419300157404\n",
      "acc:0.9367847403648439 acc5:0.9967302449717509\n",
      "Epoch 24/30 training...\n"
     ]
    },
    {
     "data": {
      "application/vnd.jupyter.widget-view+json": {
       "model_id": "b3d4bd90cad046a9a3dccb39d6209af9",
       "version_major": 2,
       "version_minor": 0
      },
      "text/plain": [
       "  0%|          | 0/130 [00:00<?, ?it/s]"
      ]
     },
     "metadata": {},
     "output_type": "display_data"
    },
    {
     "name": "stdout",
     "output_type": "stream",
     "text": [
      "9/130 loss:1.0082167506217956  acc:0.96015625\n",
      "19/130 loss:0.9984755426645279  acc:0.967578125\n",
      "29/130 loss:0.9931571185588837  acc:0.9703125\n",
      "39/130 loss:0.9941834762692452  acc:0.9701171875\n",
      "49/130 loss:0.9947129642963409  acc:0.96875\n",
      "59/130 loss:0.9945303211609523  acc:0.9684895833333333\n",
      "69/130 loss:0.9928567707538605  acc:0.9697544642857143\n",
      "79/130 loss:0.9911799773573875  acc:0.969921875\n",
      "89/130 loss:0.9898310038778517  acc:0.9707465277777778\n",
      "99/130 loss:0.98892074406147  acc:0.9709375\n",
      "109/130 loss:0.9895819132978266  acc:0.9703125\n",
      "119/130 loss:0.9894644975662231  acc:0.970703125\n",
      "129/130 loss:0.9889392953242903  acc:0.971001331880373\n",
      "train loss:0.9889392953242903 acc:0.971001331880373\n",
      "acc:0.9444141684176162 acc5:0.9956403267156201\n",
      "Epoch 25/30 training...\n"
     ]
    },
    {
     "data": {
      "application/vnd.jupyter.widget-view+json": {
       "model_id": "97313ea17f0942cf9d250da68a1d9e16",
       "version_major": 2,
       "version_minor": 0
      },
      "text/plain": [
       "  0%|          | 0/130 [00:00<?, ?it/s]"
      ]
     },
     "metadata": {},
     "output_type": "display_data"
    },
    {
     "name": "stdout",
     "output_type": "stream",
     "text": [
      "9/130 loss:0.9730362236499787  acc:0.97734375\n",
      "19/130 loss:0.9784967690706253  acc:0.9734375\n",
      "29/130 loss:0.9813079118728638  acc:0.971875\n",
      "39/130 loss:0.9784782722592353  acc:0.97265625\n",
      "49/130 loss:0.9787217462062836  acc:0.9725\n",
      "59/130 loss:0.9766373207171758  acc:0.9735677083333333\n",
      "69/130 loss:0.975829290492194  acc:0.9746651785714285\n",
      "79/130 loss:0.9771687291562557  acc:0.9740234375\n",
      "89/130 loss:0.9765949785709381  acc:0.97421875\n",
      "99/130 loss:0.9782651907205582  acc:0.97296875\n",
      "109/130 loss:0.9778966199267994  acc:0.9730823863636363\n",
      "119/130 loss:0.978261976937453  acc:0.9725911458333333\n",
      "129/130 loss:0.9785565775695646  acc:0.9726359123380555\n",
      "train loss:0.9785565775695646 acc:0.9726359123380555\n",
      "acc:0.9487738419618529 acc5:0.9989100817438692\n",
      "Epoch 26/30 training...\n"
     ]
    },
    {
     "data": {
      "application/vnd.jupyter.widget-view+json": {
       "model_id": "d0b21b7695ac470bab0d7420b7d9733f",
       "version_major": 2,
       "version_minor": 0
      },
      "text/plain": [
       "  0%|          | 0/130 [00:00<?, ?it/s]"
      ]
     },
     "metadata": {},
     "output_type": "display_data"
    },
    {
     "name": "stdout",
     "output_type": "stream",
     "text": [
      "9/130 loss:0.9721457004547119  acc:0.97734375\n",
      "19/130 loss:0.9751799255609512  acc:0.974609375\n",
      "29/130 loss:0.9755699614683787  acc:0.9747395833333333\n",
      "39/130 loss:0.9754990741610527  acc:0.9740234375\n",
      "49/130 loss:0.9743554210662841  acc:0.97390625\n",
      "59/130 loss:0.9731395900249481  acc:0.9739583333333334\n",
      "69/130 loss:0.9727662120546613  acc:0.9739955357142858\n",
      "79/130 loss:0.9716022878885269  acc:0.974609375\n",
      "89/130 loss:0.9710222244262695  acc:0.9743055555555555\n",
      "99/130 loss:0.9727949565649032  acc:0.973671875\n",
      "109/130 loss:0.971907485073263  acc:0.9737926136363636\n",
      "119/130 loss:0.9720602467656135  acc:0.973828125\n",
      "129/130 loss:0.9720851650161826  acc:0.9740888727448843\n",
      "train loss:0.9720851650161826 acc:0.9740888727448843\n",
      "acc:0.941144413389367 acc5:0.9978201634877384\n",
      "Epoch 27/30 training...\n"
     ]
    },
    {
     "data": {
      "application/vnd.jupyter.widget-view+json": {
       "model_id": "18b06f2e377f44d8b65a45fc853626f8",
       "version_major": 2,
       "version_minor": 0
      },
      "text/plain": [
       "  0%|          | 0/130 [00:00<?, ?it/s]"
      ]
     },
     "metadata": {},
     "output_type": "display_data"
    },
    {
     "name": "stdout",
     "output_type": "stream",
     "text": [
      "9/130 loss:0.9641734182834625  acc:0.97265625\n",
      "19/130 loss:0.9588902324438096  acc:0.9765625\n",
      "29/130 loss:0.9603929897149404  acc:0.9768229166666667\n",
      "39/130 loss:0.9595077261328697  acc:0.9767578125\n",
      "49/130 loss:0.9607344889640808  acc:0.97671875\n",
      "59/130 loss:0.9621871252854665  acc:0.9766927083333333\n",
      "69/130 loss:0.9612556704453059  acc:0.9772321428571429\n",
      "79/130 loss:0.9618918284773826  acc:0.97685546875\n",
      "89/130 loss:0.9603097511662377  acc:0.9777777777777777\n",
      "99/130 loss:0.9594049733877182  acc:0.978125\n",
      "109/130 loss:0.959143955599178  acc:0.9784090909090909\n",
      "119/130 loss:0.9597681845227878  acc:0.9776692708333333\n",
      "129/130 loss:0.960826089500818  acc:0.976934253541591\n",
      "train loss:0.960826089500818 acc:0.976934253541591\n",
      "acc:0.9438692090296941 acc5:0.997275204359673\n",
      "Epoch 28/30 training...\n"
     ]
    },
    {
     "data": {
      "application/vnd.jupyter.widget-view+json": {
       "model_id": "7d25ceac208d4104aa2bcf894338f873",
       "version_major": 2,
       "version_minor": 0
      },
      "text/plain": [
       "  0%|          | 0/130 [00:00<?, ?it/s]"
      ]
     },
     "metadata": {},
     "output_type": "display_data"
    },
    {
     "name": "stdout",
     "output_type": "stream",
     "text": [
      "9/130 loss:0.9439959585666656  acc:0.98828125\n",
      "19/130 loss:0.9499895632266998  acc:0.982421875\n",
      "29/130 loss:0.9544837415218353  acc:0.97890625\n",
      "39/130 loss:0.9559653237462044  acc:0.9783203125\n",
      "49/130 loss:0.9567093944549561  acc:0.978125\n",
      "59/130 loss:0.9543039470911026  acc:0.9787760416666667\n",
      "69/130 loss:0.9549255064555577  acc:0.9786830357142857\n",
      "79/130 loss:0.9540928639471531  acc:0.97890625\n",
      "89/130 loss:0.9556423293219672  acc:0.9779513888888889\n"
     ]
    },
    {
     "ename": "KeyboardInterrupt",
     "evalue": "",
     "output_type": "error",
     "traceback": [
      "\u001b[0;31m---------------------------------------------------------------------------\u001b[0m",
      "\u001b[0;31mKeyboardInterrupt\u001b[0m                         Traceback (most recent call last)",
      "\u001b[0;32m<ipython-input-1-1e0e8d9d0526>\u001b[0m in \u001b[0;36m<module>\u001b[0;34m\u001b[0m\n\u001b[1;32m     21\u001b[0m \u001b[0margs\u001b[0m \u001b[0;34m=\u001b[0m \u001b[0mAttributeDict\u001b[0m\u001b[0;34m(\u001b[0m\u001b[0margs\u001b[0m\u001b[0;34m)\u001b[0m\u001b[0;34m\u001b[0m\u001b[0;34m\u001b[0m\u001b[0m\n\u001b[1;32m     22\u001b[0m \u001b[0;34m\u001b[0m\u001b[0m\n\u001b[0;32m---> 23\u001b[0;31m \u001b[0mtrain\u001b[0m\u001b[0;34m(\u001b[0m\u001b[0margs\u001b[0m\u001b[0;34m)\u001b[0m\u001b[0;34m\u001b[0m\u001b[0;34m\u001b[0m\u001b[0m\n\u001b[0m",
      "\u001b[0;32m~/projects/classify-leaves/src/train.py\u001b[0m in \u001b[0;36mtrain\u001b[0;34m(args)\u001b[0m\n\u001b[1;32m    185\u001b[0m             \u001b[0mscheduler_warmup\u001b[0m\u001b[0;34m.\u001b[0m\u001b[0mstep\u001b[0m\u001b[0;34m(\u001b[0m\u001b[0;34m)\u001b[0m\u001b[0;34m\u001b[0m\u001b[0;34m\u001b[0m\u001b[0m\n\u001b[1;32m    186\u001b[0m \u001b[0;34m\u001b[0m\u001b[0m\n\u001b[0;32m--> 187\u001b[0;31m             \u001b[0mloss\u001b[0m\u001b[0;34m,\u001b[0m \u001b[0macc\u001b[0m \u001b[0;34m=\u001b[0m \u001b[0mupdater\u001b[0m\u001b[0;34m.\u001b[0m\u001b[0mtrain_one_epoch\u001b[0m\u001b[0;34m(\u001b[0m\u001b[0mmodel\u001b[0m\u001b[0;34m)\u001b[0m\u001b[0;34m\u001b[0m\u001b[0;34m\u001b[0m\u001b[0m\n\u001b[0m\u001b[1;32m    188\u001b[0m             \u001b[0mwriter\u001b[0m\u001b[0;34m.\u001b[0m\u001b[0madd_scalar\u001b[0m\u001b[0;34m(\u001b[0m\u001b[0;34mf\"fold={fold}-loss\"\u001b[0m\u001b[0;34m,\u001b[0m \u001b[0mloss\u001b[0m\u001b[0;34m,\u001b[0m \u001b[0mi\u001b[0m\u001b[0;34m)\u001b[0m\u001b[0;34m\u001b[0m\u001b[0;34m\u001b[0m\u001b[0m\n\u001b[1;32m    189\u001b[0m             \u001b[0mwriter\u001b[0m\u001b[0;34m.\u001b[0m\u001b[0madd_scalar\u001b[0m\u001b[0;34m(\u001b[0m\u001b[0;34mf\"fold={fold}-train_acc\"\u001b[0m\u001b[0;34m,\u001b[0m \u001b[0macc\u001b[0m\u001b[0;34m,\u001b[0m \u001b[0mi\u001b[0m\u001b[0;34m)\u001b[0m\u001b[0;34m\u001b[0m\u001b[0;34m\u001b[0m\u001b[0m\n",
      "\u001b[0;32m~/projects/classify-leaves/src/train.py\u001b[0m in \u001b[0;36mtrain_one_epoch\u001b[0;34m(self, model)\u001b[0m\n\u001b[1;32m     74\u001b[0m             \u001b[0mloss\u001b[0m \u001b[0;34m=\u001b[0m \u001b[0mself\u001b[0m\u001b[0;34m.\u001b[0m\u001b[0mloss_fn\u001b[0m\u001b[0;34m(\u001b[0m\u001b[0mout\u001b[0m\u001b[0;34m,\u001b[0m \u001b[0mlabels\u001b[0m\u001b[0;34m)\u001b[0m\u001b[0;34m\u001b[0m\u001b[0;34m\u001b[0m\u001b[0m\n\u001b[1;32m     75\u001b[0m             \u001b[0mloss\u001b[0m\u001b[0;34m.\u001b[0m\u001b[0mbackward\u001b[0m\u001b[0;34m(\u001b[0m\u001b[0;34m)\u001b[0m\u001b[0;34m\u001b[0m\u001b[0;34m\u001b[0m\u001b[0m\n\u001b[0;32m---> 76\u001b[0;31m             \u001b[0mself\u001b[0m\u001b[0;34m.\u001b[0m\u001b[0moptimizer\u001b[0m\u001b[0;34m.\u001b[0m\u001b[0mstep\u001b[0m\u001b[0;34m(\u001b[0m\u001b[0;34m)\u001b[0m\u001b[0;34m\u001b[0m\u001b[0;34m\u001b[0m\u001b[0m\n\u001b[0m\u001b[1;32m     77\u001b[0m             \u001b[0;32mwith\u001b[0m \u001b[0mtorch\u001b[0m\u001b[0;34m.\u001b[0m\u001b[0mno_grad\u001b[0m\u001b[0;34m(\u001b[0m\u001b[0;34m)\u001b[0m\u001b[0;34m:\u001b[0m\u001b[0;34m\u001b[0m\u001b[0;34m\u001b[0m\u001b[0m\n\u001b[1;32m     78\u001b[0m                 metric.add(\n",
      "\u001b[0;32m~/anaconda3/lib/python3.8/site-packages/torch/optim/lr_scheduler.py\u001b[0m in \u001b[0;36mwrapper\u001b[0;34m(*args, **kwargs)\u001b[0m\n\u001b[1;32m     63\u001b[0m                 \u001b[0minstance\u001b[0m\u001b[0;34m.\u001b[0m\u001b[0m_step_count\u001b[0m \u001b[0;34m+=\u001b[0m \u001b[0;36m1\u001b[0m\u001b[0;34m\u001b[0m\u001b[0;34m\u001b[0m\u001b[0m\n\u001b[1;32m     64\u001b[0m                 \u001b[0mwrapped\u001b[0m \u001b[0;34m=\u001b[0m \u001b[0mfunc\u001b[0m\u001b[0;34m.\u001b[0m\u001b[0m__get__\u001b[0m\u001b[0;34m(\u001b[0m\u001b[0minstance\u001b[0m\u001b[0;34m,\u001b[0m \u001b[0mcls\u001b[0m\u001b[0;34m)\u001b[0m\u001b[0;34m\u001b[0m\u001b[0;34m\u001b[0m\u001b[0m\n\u001b[0;32m---> 65\u001b[0;31m                 \u001b[0;32mreturn\u001b[0m \u001b[0mwrapped\u001b[0m\u001b[0;34m(\u001b[0m\u001b[0;34m*\u001b[0m\u001b[0margs\u001b[0m\u001b[0;34m,\u001b[0m \u001b[0;34m**\u001b[0m\u001b[0mkwargs\u001b[0m\u001b[0;34m)\u001b[0m\u001b[0;34m\u001b[0m\u001b[0;34m\u001b[0m\u001b[0m\n\u001b[0m\u001b[1;32m     66\u001b[0m \u001b[0;34m\u001b[0m\u001b[0m\n\u001b[1;32m     67\u001b[0m             \u001b[0;31m# Note that the returned function here is no longer a bound method,\u001b[0m\u001b[0;34m\u001b[0m\u001b[0;34m\u001b[0m\u001b[0;34m\u001b[0m\u001b[0m\n",
      "\u001b[0;32m~/anaconda3/lib/python3.8/site-packages/torch/optim/optimizer.py\u001b[0m in \u001b[0;36mwrapper\u001b[0;34m(*args, **kwargs)\u001b[0m\n\u001b[1;32m     87\u001b[0m                 \u001b[0mprofile_name\u001b[0m \u001b[0;34m=\u001b[0m \u001b[0;34m\"Optimizer.step#{}.step\"\u001b[0m\u001b[0;34m.\u001b[0m\u001b[0mformat\u001b[0m\u001b[0;34m(\u001b[0m\u001b[0mobj\u001b[0m\u001b[0;34m.\u001b[0m\u001b[0m__class__\u001b[0m\u001b[0;34m.\u001b[0m\u001b[0m__name__\u001b[0m\u001b[0;34m)\u001b[0m\u001b[0;34m\u001b[0m\u001b[0;34m\u001b[0m\u001b[0m\n\u001b[1;32m     88\u001b[0m                 \u001b[0;32mwith\u001b[0m \u001b[0mtorch\u001b[0m\u001b[0;34m.\u001b[0m\u001b[0mautograd\u001b[0m\u001b[0;34m.\u001b[0m\u001b[0mprofiler\u001b[0m\u001b[0;34m.\u001b[0m\u001b[0mrecord_function\u001b[0m\u001b[0;34m(\u001b[0m\u001b[0mprofile_name\u001b[0m\u001b[0;34m)\u001b[0m\u001b[0;34m:\u001b[0m\u001b[0;34m\u001b[0m\u001b[0;34m\u001b[0m\u001b[0m\n\u001b[0;32m---> 89\u001b[0;31m                     \u001b[0;32mreturn\u001b[0m \u001b[0mfunc\u001b[0m\u001b[0;34m(\u001b[0m\u001b[0;34m*\u001b[0m\u001b[0margs\u001b[0m\u001b[0;34m,\u001b[0m \u001b[0;34m**\u001b[0m\u001b[0mkwargs\u001b[0m\u001b[0;34m)\u001b[0m\u001b[0;34m\u001b[0m\u001b[0;34m\u001b[0m\u001b[0m\n\u001b[0m\u001b[1;32m     90\u001b[0m             \u001b[0;32mreturn\u001b[0m \u001b[0mwrapper\u001b[0m\u001b[0;34m\u001b[0m\u001b[0;34m\u001b[0m\u001b[0m\n\u001b[1;32m     91\u001b[0m \u001b[0;34m\u001b[0m\u001b[0m\n",
      "\u001b[0;32m~/anaconda3/lib/python3.8/site-packages/torch/autograd/grad_mode.py\u001b[0m in \u001b[0;36mdecorate_context\u001b[0;34m(*args, **kwargs)\u001b[0m\n\u001b[1;32m     25\u001b[0m         \u001b[0;32mdef\u001b[0m \u001b[0mdecorate_context\u001b[0m\u001b[0;34m(\u001b[0m\u001b[0;34m*\u001b[0m\u001b[0margs\u001b[0m\u001b[0;34m,\u001b[0m \u001b[0;34m**\u001b[0m\u001b[0mkwargs\u001b[0m\u001b[0;34m)\u001b[0m\u001b[0;34m:\u001b[0m\u001b[0;34m\u001b[0m\u001b[0;34m\u001b[0m\u001b[0m\n\u001b[1;32m     26\u001b[0m             \u001b[0;32mwith\u001b[0m \u001b[0mself\u001b[0m\u001b[0;34m.\u001b[0m\u001b[0m__class__\u001b[0m\u001b[0;34m(\u001b[0m\u001b[0;34m)\u001b[0m\u001b[0;34m:\u001b[0m\u001b[0;34m\u001b[0m\u001b[0;34m\u001b[0m\u001b[0m\n\u001b[0;32m---> 27\u001b[0;31m                 \u001b[0;32mreturn\u001b[0m \u001b[0mfunc\u001b[0m\u001b[0;34m(\u001b[0m\u001b[0;34m*\u001b[0m\u001b[0margs\u001b[0m\u001b[0;34m,\u001b[0m \u001b[0;34m**\u001b[0m\u001b[0mkwargs\u001b[0m\u001b[0;34m)\u001b[0m\u001b[0;34m\u001b[0m\u001b[0;34m\u001b[0m\u001b[0m\n\u001b[0m\u001b[1;32m     28\u001b[0m         \u001b[0;32mreturn\u001b[0m \u001b[0mcast\u001b[0m\u001b[0;34m(\u001b[0m\u001b[0mF\u001b[0m\u001b[0;34m,\u001b[0m \u001b[0mdecorate_context\u001b[0m\u001b[0;34m)\u001b[0m\u001b[0;34m\u001b[0m\u001b[0;34m\u001b[0m\u001b[0m\n\u001b[1;32m     29\u001b[0m \u001b[0;34m\u001b[0m\u001b[0m\n",
      "\u001b[0;32m~/anaconda3/lib/python3.8/site-packages/torch/optim/adam.py\u001b[0m in \u001b[0;36mstep\u001b[0;34m(self, closure)\u001b[0m\n\u001b[1;32m    106\u001b[0m \u001b[0;34m\u001b[0m\u001b[0m\n\u001b[1;32m    107\u001b[0m             \u001b[0mbeta1\u001b[0m\u001b[0;34m,\u001b[0m \u001b[0mbeta2\u001b[0m \u001b[0;34m=\u001b[0m \u001b[0mgroup\u001b[0m\u001b[0;34m[\u001b[0m\u001b[0;34m'betas'\u001b[0m\u001b[0;34m]\u001b[0m\u001b[0;34m\u001b[0m\u001b[0;34m\u001b[0m\u001b[0m\n\u001b[0;32m--> 108\u001b[0;31m             F.adam(params_with_grad,\n\u001b[0m\u001b[1;32m    109\u001b[0m                    \u001b[0mgrads\u001b[0m\u001b[0;34m,\u001b[0m\u001b[0;34m\u001b[0m\u001b[0;34m\u001b[0m\u001b[0m\n\u001b[1;32m    110\u001b[0m                    \u001b[0mexp_avgs\u001b[0m\u001b[0;34m,\u001b[0m\u001b[0;34m\u001b[0m\u001b[0;34m\u001b[0m\u001b[0m\n",
      "\u001b[0;32m~/anaconda3/lib/python3.8/site-packages/torch/optim/_functional.py\u001b[0m in \u001b[0;36madam\u001b[0;34m(params, grads, exp_avgs, exp_avg_sqs, max_exp_avg_sqs, state_steps, amsgrad, beta1, beta2, lr, weight_decay, eps)\u001b[0m\n\u001b[1;32m     94\u001b[0m         \u001b[0mstep_size\u001b[0m \u001b[0;34m=\u001b[0m \u001b[0mlr\u001b[0m \u001b[0;34m/\u001b[0m \u001b[0mbias_correction1\u001b[0m\u001b[0;34m\u001b[0m\u001b[0;34m\u001b[0m\u001b[0m\n\u001b[1;32m     95\u001b[0m \u001b[0;34m\u001b[0m\u001b[0m\n\u001b[0;32m---> 96\u001b[0;31m         \u001b[0mparam\u001b[0m\u001b[0;34m.\u001b[0m\u001b[0maddcdiv_\u001b[0m\u001b[0;34m(\u001b[0m\u001b[0mexp_avg\u001b[0m\u001b[0;34m,\u001b[0m \u001b[0mdenom\u001b[0m\u001b[0;34m,\u001b[0m \u001b[0mvalue\u001b[0m\u001b[0;34m=\u001b[0m\u001b[0;34m-\u001b[0m\u001b[0mstep_size\u001b[0m\u001b[0;34m)\u001b[0m\u001b[0;34m\u001b[0m\u001b[0;34m\u001b[0m\u001b[0m\n\u001b[0m\u001b[1;32m     97\u001b[0m \u001b[0;34m\u001b[0m\u001b[0m\n\u001b[1;32m     98\u001b[0m \u001b[0;34m\u001b[0m\u001b[0m\n",
      "\u001b[0;31mKeyboardInterrupt\u001b[0m: "
     ]
    },
    {
     "data": {
      "text/plain": [
       "<Figure size 432x288 with 0 Axes>"
      ]
     },
     "metadata": {},
     "output_type": "display_data"
    }
   ],
   "source": [
    "from train import train\n",
    "\n",
    "args = {\n",
    "    'batch_size': 128,\n",
    "    'model': 'seresnext50',\n",
    "    'freeze': False,\n",
    "    'eval_all': True,\n",
    "    'data_root': '../dataset/classify-leaves',\n",
    "    'val_ratio': 0.1,\n",
    "    'fold': 10,\n",
    "    'lr': 2e-5,\n",
    "    'epoch': 30,\n",
    "    'resume': True,\n",
    "    'verbose': True,\n",
    "    'ckpt_path': 'model.pth'\n",
    "}\n",
    "class AttributeDict(dict):\n",
    "    __slots__ = () \n",
    "    __getattr__ = dict.__getitem__\n",
    "    __setattr__ = dict.__setitem__\n",
    "args = AttributeDict(args)\n",
    "\n",
    "train(args)"
   ]
  },
  {
   "cell_type": "code",
   "execution_count": null,
   "metadata": {},
   "outputs": [],
   "source": []
  }
 ],
 "metadata": {
  "kernelspec": {
   "display_name": "Python 3",
   "language": "python",
   "name": "python3"
  }
 },
 "nbformat": 4,
 "nbformat_minor": 2
}
