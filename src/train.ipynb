{
 "cells": [
  {
   "cell_type": "code",
   "execution_count": null,
   "metadata": {},
   "outputs": [
    {
     "name": "stderr",
     "output_type": "stream",
     "text": [
      " 85%|████████▍ | 110/130 [02:51<00:31,  1.58s/it]"
     ]
    },
    {
     "name": "stdout",
     "output_type": "stream",
     "text": [
      "109/130 loss:3.2732342828403818  acc:0.19673295454545456\n"
     ]
    },
    {
     "name": "stderr",
     "output_type": "stream",
     "text": [
      " 88%|████████▊ | 114/130 [02:57<00:24,  1.54s/it]"
     ]
    }
   ],
   "source": [
    "from train import train\n",
    "\n",
    "args = {\n",
    "    'batch_size': 128,\n",
    "    'model': 'seresnext50',\n",
    "    'freeze': False,\n",
    "    'eval_all': True,\n",
    "    'data_root': '../dataset/classify-leaves',\n",
    "    'val_ratio': 0.1,\n",
    "    'fold': 10,\n",
    "    'lr': 0.01,\n",
    "    'epoch': 100,\n",
    "    'resume': False,\n",
    "    'verbose': True,\n",
    "    'ckpt_path': 'model.pth'\n",
    "}\n",
    "class AttributeDict(dict):\n",
    "    __slots__ = () \n",
    "    __getattr__ = dict.__getitem__\n",
    "    __setattr__ = dict.__setitem__\n",
    "args = AttributeDict(args)\n",
    "\n",
    "train(args)"
   ]
  },
  {
   "cell_type": "code",
   "execution_count": null,
   "metadata": {},
   "outputs": [],
   "source": []
  },
  {
   "cell_type": "code",
   "execution_count": null,
   "metadata": {},
   "outputs": [],
   "source": []
  }
 ],
 "metadata": {
  "kernelspec": {
   "display_name": "Python 3",
   "language": "python",
   "name": "python3"
  }
 },
 "nbformat": 4,
 "nbformat_minor": 2
}
