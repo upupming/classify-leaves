{
 "cells": [
  {
   "cell_type": "code",
   "execution_count": null,
   "metadata": {
    "scrolled": false
   },
   "outputs": [
    {
     "name": "stdout",
     "output_type": "stream",
     "text": [
      "Finished reading the train set of Leaves Dataset (18353 samples found)\n",
      "Training for fold 0/10...\n",
      "loaded model from /home/liyiming/projects/classify-leaves/src/../models/fold=0-model.pth for resume training with current_epoch=98\n",
      "Epoch 98/100 training...\n"
     ]
    },
    {
     "data": {
      "application/vnd.jupyter.widget-view+json": {
       "model_id": "f68e80c1857741949a6cf1d1d618067c",
       "version_major": 2,
       "version_minor": 0
      },
      "text/plain": [
       "  0%|          | 0/130 [00:00<?, ?it/s]"
      ]
     },
     "metadata": {},
     "output_type": "display_data"
    },
    {
     "name": "stdout",
     "output_type": "stream",
     "text": [
      "9/130 loss:0.09168943166732788  acc:0.9671875\n",
      "19/130 loss:0.08367782384157181  acc:0.96953125\n",
      "29/130 loss:0.07839676576356093  acc:0.9708333333333333\n",
      "39/130 loss:0.07201727549545467  acc:0.9732421875\n",
      "49/130 loss:0.07233470048755407  acc:0.97390625\n",
      "59/130 loss:0.06924101157734791  acc:0.975\n",
      "69/130 loss:0.06704677770446454  acc:0.9758928571428571\n",
      "79/130 loss:0.06563090594718232  acc:0.97607421875\n",
      "89/130 loss:0.0649740661908355  acc:0.9759548611111111\n",
      "99/130 loss:0.06369339195080101  acc:0.97625\n",
      "109/130 loss:0.06295397541570392  acc:0.9765625\n",
      "119/130 loss:0.062175310721310474  acc:0.9768880208333334\n",
      "129/130 loss:0.06083064679914145  acc:0.9771144881031665\n",
      "train loss:0.06083064679914145 acc:0.9771144881031665\n",
      "acc:0.9678649237472767 acc5:1.0\n",
      "Epoch 99/100 training...\n"
     ]
    },
    {
     "data": {
      "application/vnd.jupyter.widget-view+json": {
       "model_id": "7d55df2383954449a6c20ceae58fce99",
       "version_major": 2,
       "version_minor": 0
      },
      "text/plain": [
       "  0%|          | 0/130 [00:00<?, ?it/s]"
      ]
     },
     "metadata": {},
     "output_type": "display_data"
    },
    {
     "name": "stdout",
     "output_type": "stream",
     "text": [
      "9/130 loss:0.10898828208446502  acc:0.97421875\n",
      "19/130 loss:0.11517179738730192  acc:0.971484375\n"
     ]
    }
   ],
   "source": [
    "from train import train\n",
    "\n",
    "args = {\n",
    "    'batch_size': 128,\n",
    "    'model': 'seresnext50',\n",
    "    'freeze': False,\n",
    "    'eval_all': True,\n",
    "    'data_root': '../dataset/classify-leaves',\n",
    "    'val_ratio': 0.1,\n",
    "    'fold': 10,\n",
    "    'lr': 2e-5,\n",
    "    'epoch': 100,\n",
    "    'resume': True,\n",
    "    'verbose': True,\n",
    "    'ckpt_path': 'model.pth'\n",
    "}\n",
    "class AttributeDict(dict):\n",
    "    __slots__ = () \n",
    "    __getattr__ = dict.__getitem__\n",
    "    __setattr__ = dict.__setitem__\n",
    "args = AttributeDict(args)\n",
    "\n",
    "train(args)"
   ]
  },
  {
   "cell_type": "code",
   "execution_count": null,
   "metadata": {},
   "outputs": [],
   "source": []
  }
 ],
 "metadata": {
  "kernelspec": {
   "display_name": "Python 3",
   "language": "python",
   "name": "python3"
  },
  "language_info": {
   "codemirror_mode": {
    "name": "ipython",
    "version": 3
   },
   "file_extension": ".py",
   "mimetype": "text/x-python",
   "name": "python",
   "nbconvert_exporter": "python",
   "pygments_lexer": "ipython3",
   "version": "3.8.8"
  }
 },
 "nbformat": 4,
 "nbformat_minor": 2
}
