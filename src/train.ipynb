{
 "cells": [
  {
   "cell_type": "code",
   "execution_count": 1,
   "metadata": {
    "scrolled": false
   },
   "outputs": [
    {
     "name": "stdout",
     "output_type": "stream",
     "text": [
      "Finished reading the train set of Leaves Dataset (25856 samples found)\n",
      "Training for fold 0/10...\n",
      "loaded model from /home/liyiming/projects/classify-leaves/src/../models/fold=0-model.pth for resume training with current_epoch=5\n",
      "Epoch 5/30 training...\n"
     ]
    },
    {
     "data": {
      "application/vnd.jupyter.widget-view+json": {
       "model_id": "05da77c4c8e542a58b11b61f22421608",
       "version_major": 2,
       "version_minor": 0
      },
      "text/plain": [
       "  0%|          | 0/182 [00:00<?, ?it/s]"
      ]
     },
     "metadata": {},
     "output_type": "display_data"
    },
    {
     "name": "stdout",
     "output_type": "stream",
     "text": [
      "9/182 loss:2.4234832525253296  acc:0.5109375\n",
      "19/182 loss:2.421932888031006  acc:0.50859375\n",
      "29/182 loss:2.431186040242513  acc:0.5015625\n",
      "39/182 loss:2.4389314889907836  acc:0.5\n",
      "49/182 loss:2.443057446479797  acc:0.500625\n",
      "59/182 loss:2.4513481775919597  acc:0.4973958333333333\n",
      "69/182 loss:2.4515716927392144  acc:0.4987723214285714\n",
      "79/182 loss:2.4487174332141874  acc:0.5005859375\n",
      "89/182 loss:2.4435309383604262  acc:0.5027777777777778\n",
      "99/182 loss:2.440350823402405  acc:0.50421875\n",
      "109/182 loss:2.436165486682545  acc:0.5055397727272727\n",
      "119/182 loss:2.4344004452228547  acc:0.5064453125\n",
      "129/182 loss:2.4295913494550265  acc:0.5086538461538461\n",
      "139/182 loss:2.427437060219901  acc:0.5090401785714286\n",
      "149/182 loss:2.4230031696955363  acc:0.5106770833333333\n",
      "159/182 loss:2.417158584296703  acc:0.512890625\n",
      "169/182 loss:2.413730103829328  acc:0.5140165441176471\n",
      "179/182 loss:2.412342949708303  acc:0.5146701388888889\n",
      "train loss:2.4123753054643013 acc:0.5146110872367856\n",
      "acc:0.20030935811079112 acc5:0.45011600937293833\n",
      "Epoch 6/30 training...\n"
     ]
    },
    {
     "data": {
      "application/vnd.jupyter.widget-view+json": {
       "model_id": "bf24dde70e8442d39292740424a4236a",
       "version_major": 2,
       "version_minor": 0
      },
      "text/plain": [
       "  0%|          | 0/182 [00:00<?, ?it/s]"
      ]
     },
     "metadata": {},
     "output_type": "display_data"
    },
    {
     "name": "stdout",
     "output_type": "stream",
     "text": [
      "9/182 loss:2.424180030822754  acc:0.51328125\n",
      "19/182 loss:2.3959267258644106  acc:0.5234375\n",
      "29/182 loss:2.403916851679484  acc:0.5203125\n",
      "39/182 loss:2.407920604944229  acc:0.5255859375\n",
      "49/182 loss:2.3904698991775515  acc:0.5321875\n",
      "59/182 loss:2.39357369740804  acc:0.5282552083333333\n",
      "69/182 loss:2.3984215668269564  acc:0.5262276785714286\n",
      "79/182 loss:2.403048488497734  acc:0.523828125\n",
      "89/182 loss:2.4031734704971313  acc:0.5237847222222223\n",
      "99/182 loss:2.4033632612228395  acc:0.52421875\n",
      "109/182 loss:2.407884138280695  acc:0.5220170454545454\n",
      "119/182 loss:2.4109029630819956  acc:0.5220052083333333\n",
      "129/182 loss:2.412811515881465  acc:0.5192307692307693\n",
      "139/182 loss:2.4097404939787728  acc:0.5196986607142857\n",
      "149/182 loss:2.406605839729309  acc:0.52125\n",
      "159/182 loss:2.4079025983810425  acc:0.5224609375\n",
      "169/182 loss:2.4037432782790242  acc:0.5232077205882353\n",
      "179/182 loss:2.4039870884683396  acc:0.5227864583333334\n",
      "train loss:2.403956868917992 acc:0.5226042114310271\n",
      "acc:0.12335653522405529 acc5:0.29582366621595707\n",
      "Epoch 7/30 training...\n"
     ]
    },
    {
     "data": {
      "application/vnd.jupyter.widget-view+json": {
       "model_id": "93a33a0f140e4536845fd23afc897d1f",
       "version_major": 2,
       "version_minor": 0
      },
      "text/plain": [
       "  0%|          | 0/182 [00:00<?, ?it/s]"
      ]
     },
     "metadata": {},
     "output_type": "display_data"
    },
    {
     "name": "stdout",
     "output_type": "stream",
     "text": [
      "9/182 loss:2.3101287364959715  acc:0.58046875\n",
      "19/182 loss:2.3251389384269716  acc:0.559765625\n",
      "29/182 loss:2.3313205083211264  acc:0.5544270833333333\n",
      "39/182 loss:2.3432797253131867  acc:0.5484375\n",
      "49/182 loss:2.348089141845703  acc:0.54484375\n",
      "59/182 loss:2.3454245130221048  acc:0.5446614583333333\n",
      "69/182 loss:2.342969284738813  acc:0.5439732142857143\n",
      "79/182 loss:2.3417829781770707  acc:0.54365234375\n",
      "89/182 loss:2.340902993414137  acc:0.54375\n",
      "99/182 loss:2.340509853363037  acc:0.544375\n",
      "109/182 loss:2.3466566801071167  acc:0.5412642045454545\n",
      "119/182 loss:2.3576599021752673  acc:0.5375651041666667\n",
      "129/182 loss:2.3642445105772754  acc:0.5349158653846153\n",
      "139/182 loss:2.3702016728264943  acc:0.5328683035714286\n",
      "149/182 loss:2.377021900812785  acc:0.5298958333333333\n",
      "159/182 loss:2.381959933042526  acc:0.52919921875\n",
      "169/182 loss:2.382308003481697  acc:0.5293658088235295\n",
      "179/182 loss:2.3824615240097047  acc:0.5279079861111111\n",
      "train loss:2.3824246546307193 acc:0.528104856037817\n",
      "acc:0.04833720032376369 acc5:0.19218870845881894\n",
      "Epoch 8/30 training...\n"
     ]
    },
    {
     "data": {
      "application/vnd.jupyter.widget-view+json": {
       "model_id": "594b110cf52948ee9d45f14236cf4742",
       "version_major": 2,
       "version_minor": 0
      },
      "text/plain": [
       "  0%|          | 0/182 [00:00<?, ?it/s]"
      ]
     },
     "metadata": {},
     "output_type": "display_data"
    },
    {
     "name": "stdout",
     "output_type": "stream",
     "text": [
      "9/182 loss:2.3663265466690064  acc:0.53125\n",
      "19/182 loss:2.371046757698059  acc:0.52578125\n",
      "29/182 loss:2.360665543874105  acc:0.528125\n",
      "39/182 loss:2.349566954374313  acc:0.53125\n",
      "49/182 loss:2.345051999092102  acc:0.53390625\n",
      "59/182 loss:2.3462994774182637  acc:0.5364583333333334\n",
      "69/182 loss:2.3549103668757847  acc:0.5309151785714286\n",
      "79/182 loss:2.3522913843393325  acc:0.533203125\n",
      "89/182 loss:2.351999518606398  acc:0.5337673611111111\n",
      "99/182 loss:2.3512675189971923  acc:0.534765625\n",
      "109/182 loss:2.3523037693717264  acc:0.5346590909090909\n",
      "119/182 loss:2.3576424260934195  acc:0.5320963541666667\n",
      "129/182 loss:2.361990998341487  acc:0.530108173076923\n",
      "139/182 loss:2.3637434005737306  acc:0.5296316964285714\n",
      "149/182 loss:2.3615648396809896  acc:0.5309895833333333\n",
      "159/182 loss:2.35864122658968  acc:0.53232421875\n",
      "169/182 loss:2.358701302023495  acc:0.5322150735294118\n",
      "179/182 loss:2.3580916232532925  acc:0.533203125\n",
      "train loss:2.357062722973727 acc:0.5339063171465406\n",
      "acc:0.08081979891724671 acc5:0.28886310918701774\n",
      "Epoch 9/30 training...\n"
     ]
    },
    {
     "data": {
      "application/vnd.jupyter.widget-view+json": {
       "model_id": "676fc03057eb40e6a679eeb4b1c03f5b",
       "version_major": 2,
       "version_minor": 0
      },
      "text/plain": [
       "  0%|          | 0/182 [00:00<?, ?it/s]"
      ]
     },
     "metadata": {},
     "output_type": "display_data"
    },
    {
     "name": "stdout",
     "output_type": "stream",
     "text": [
      "9/182 loss:2.324741744995117  acc:0.55859375\n",
      "19/182 loss:2.3034914255142214  acc:0.56796875\n",
      "29/182 loss:2.3334867080052693  acc:0.5510416666666667\n",
      "39/182 loss:2.330909216403961  acc:0.5501953125\n",
      "49/182 loss:2.332637543678284  acc:0.54984375\n",
      "59/182 loss:2.3336983799934385  acc:0.5513020833333333\n",
      "69/182 loss:2.3301475388663158  acc:0.5546875\n",
      "79/182 loss:2.3349553793668747  acc:0.5533203125\n",
      "89/182 loss:2.331264940897624  acc:0.5532986111111111\n",
      "99/182 loss:2.3343639039993285  acc:0.54984375\n",
      "109/182 loss:2.334786306728016  acc:0.549502840909091\n",
      "119/182 loss:2.335027301311493  acc:0.548046875\n",
      "129/182 loss:2.3326405121729925  acc:0.5484975961538462\n",
      "139/182 loss:2.333703465121133  acc:0.5486049107142857\n",
      "149/182 loss:2.333290073076884  acc:0.5503125\n",
      "159/182 loss:2.329567997157574  acc:0.55205078125\n",
      "169/182 loss:2.3250684871393092  acc:0.5542279411764706\n",
      "179/182 loss:2.32134687172042  acc:0.5547309027777778\n",
      "train loss:2.32143780848065 acc:0.5544048130640309\n",
      "acc:0.06651198765448793 acc5:0.264114462524906\n",
      "Epoch 10/30 training...\n"
     ]
    },
    {
     "data": {
      "application/vnd.jupyter.widget-view+json": {
       "model_id": "e545d1e6d31b4d158286c1c8a6362e32",
       "version_major": 2,
       "version_minor": 0
      },
      "text/plain": [
       "  0%|          | 0/182 [00:00<?, ?it/s]"
      ]
     },
     "metadata": {},
     "output_type": "display_data"
    },
    {
     "name": "stdout",
     "output_type": "stream",
     "text": [
      "9/182 loss:2.3690438985824587  acc:0.53984375\n",
      "19/182 loss:2.33819659948349  acc:0.546484375\n",
      "29/182 loss:2.3288864294687905  acc:0.5515625\n",
      "39/182 loss:2.328601211309433  acc:0.5484375\n",
      "49/182 loss:2.314832649230957  acc:0.55609375\n",
      "59/182 loss:2.319198497136434  acc:0.553515625\n",
      "69/182 loss:2.315748316901071  acc:0.5532366071428572\n",
      "79/182 loss:2.310616543889046  acc:0.55419921875\n",
      "89/182 loss:2.304689868291219  acc:0.5581597222222222\n",
      "99/182 loss:2.303759071826935  acc:0.55875\n",
      "109/182 loss:2.3015362544493243  acc:0.56015625\n",
      "119/182 loss:2.298948876063029  acc:0.5606119791666667\n",
      "129/182 loss:2.3036298440052914  acc:0.5587139423076923\n",
      "139/182 loss:2.3059982487133572  acc:0.5578125\n",
      "149/182 loss:2.3069887574513754  acc:0.5572916666666666\n",
      "159/182 loss:2.311954228579998  acc:0.555615234375\n",
      "169/182 loss:2.311552953720093  acc:0.5553768382352942\n",
      "179/182 loss:2.311653984917535  acc:0.5559027777777777\n",
      "train loss:2.311583991351945 acc:0.5558659217877095\n",
      "acc:0.20378963653882715 acc5:0.5564578504684077\n",
      "Epoch 11/30 training...\n"
     ]
    },
    {
     "data": {
      "application/vnd.jupyter.widget-view+json": {
       "model_id": "b758b8c7008a40a9a13807c854bfa831",
       "version_major": 2,
       "version_minor": 0
      },
      "text/plain": [
       "  0%|          | 0/182 [00:00<?, ?it/s]"
      ]
     },
     "metadata": {},
     "output_type": "display_data"
    },
    {
     "name": "stdout",
     "output_type": "stream",
     "text": [
      "9/182 loss:2.3841392040252685  acc:0.51328125\n",
      "19/182 loss:2.3549073219299315  acc:0.53828125\n",
      "29/182 loss:2.3271849473317463  acc:0.5471354166666667\n",
      "39/182 loss:2.3169320583343507  acc:0.5517578125\n",
      "49/182 loss:2.311592688560486  acc:0.55359375\n",
      "59/182 loss:2.3088040987650555  acc:0.5528645833333333\n",
      "69/182 loss:2.2999970708574566  acc:0.5556919642857143\n",
      "79/182 loss:2.303826904296875  acc:0.5552734375\n",
      "89/182 loss:2.297756804360284  acc:0.5573784722222223\n",
      "99/182 loss:2.3032567739486693  acc:0.553125\n",
      "109/182 loss:2.300825589353388  acc:0.5542613636363637\n",
      "119/182 loss:2.29983012676239  acc:0.5557291666666667\n",
      "129/182 loss:2.297479405769935  acc:0.5566706730769231\n",
      "139/182 loss:2.2969268611499243  acc:0.5559709821428571\n",
      "149/182 loss:2.2951196495691937  acc:0.556875\n",
      "159/182 loss:2.297982582449913  acc:0.55751953125\n",
      "169/182 loss:2.297833891475902  acc:0.5578125\n",
      "179/182 loss:2.2978433039453297  acc:0.5572482638888889\n",
      "train loss:2.2972783080897314 acc:0.5572840567253975\n",
      "acc:0.28963650436891847 acc5:0.5974477961002536\n",
      "Epoch 12/30 training...\n"
     ]
    },
    {
     "data": {
      "application/vnd.jupyter.widget-view+json": {
       "model_id": "8a1cab6b8ceb41a7890b7887065937df",
       "version_major": 2,
       "version_minor": 0
      },
      "text/plain": [
       "  0%|          | 0/182 [00:00<?, ?it/s]"
      ]
     },
     "metadata": {},
     "output_type": "display_data"
    },
    {
     "name": "stdout",
     "output_type": "stream",
     "text": [
      "9/182 loss:2.192149305343628  acc:0.609375\n",
      "19/182 loss:2.2324661135673525  acc:0.59375\n",
      "29/182 loss:2.2358052412668865  acc:0.5861979166666667\n",
      "39/182 loss:2.2467398047447205  acc:0.578125\n",
      "49/182 loss:2.2469562768936155  acc:0.57765625\n",
      "59/182 loss:2.2483487288157145  acc:0.5774739583333334\n",
      "69/182 loss:2.2520968914031982  acc:0.5736607142857143\n",
      "79/182 loss:2.253108924627304  acc:0.57392578125\n",
      "89/182 loss:2.250839098294576  acc:0.5747395833333333\n",
      "99/182 loss:2.2519557166099546  acc:0.575703125\n",
      "109/182 loss:2.2556347023357044  acc:0.5735795454545455\n",
      "119/182 loss:2.258603596687317  acc:0.5719401041666666\n",
      "129/182 loss:2.2622562316747814  acc:0.5709735576923077\n",
      "139/182 loss:2.258807248728616  acc:0.5720424107142857\n",
      "149/182 loss:2.2623960987726845  acc:0.5707291666666666\n",
      "159/182 loss:2.2658839166164397  acc:0.568896484375\n",
      "169/182 loss:2.2705823814167694  acc:0.5676470588235294\n",
      "179/182 loss:2.2730020218425326  acc:0.5663628472222222\n",
      "train loss:2.273572111109269 acc:0.5661366566394499\n",
      "acc:0.32753286938840626 acc5:0.6388244395189662\n",
      "Epoch 13/30 training...\n"
     ]
    },
    {
     "data": {
      "application/vnd.jupyter.widget-view+json": {
       "model_id": "4d412f2df39b4941a39562a302f0c61a",
       "version_major": 2,
       "version_minor": 0
      },
      "text/plain": [
       "  0%|          | 0/182 [00:00<?, ?it/s]"
      ]
     },
     "metadata": {},
     "output_type": "display_data"
    },
    {
     "name": "stdout",
     "output_type": "stream",
     "text": [
      "9/182 loss:2.192629849910736  acc:0.6015625\n",
      "19/182 loss:2.17930691242218  acc:0.603125\n",
      "29/182 loss:2.1882434288660684  acc:0.5973958333333333\n",
      "39/182 loss:2.196161675453186  acc:0.599609375\n",
      "49/182 loss:2.2060452127456665  acc:0.59453125\n",
      "59/182 loss:2.2103004177411396  acc:0.58984375\n",
      "69/182 loss:2.213730205808367  acc:0.5866071428571429\n",
      "79/182 loss:2.22589715719223  acc:0.57958984375\n",
      "89/182 loss:2.227740544743008  acc:0.5789930555555556\n",
      "99/182 loss:2.2376040196418763  acc:0.576328125\n",
      "109/182 loss:2.245952203057029  acc:0.57421875\n",
      "119/182 loss:2.2539608081181846  acc:0.5719401041666666\n",
      "129/182 loss:2.253204582287715  acc:0.5731971153846154\n",
      "139/182 loss:2.252910644667489  acc:0.5739955357142857\n",
      "149/182 loss:2.251467164357503  acc:0.5746875\n",
      "159/182 loss:2.253079691529274  acc:0.5736328125\n",
      "169/182 loss:2.2501211755415973  acc:0.5741727941176471\n",
      "179/182 loss:2.252834277682834  acc:0.5730034722222223\n",
      "train loss:2.2543314456324954 acc:0.5730124623979372\n",
      "acc:0.06148491879350348 acc5:0.21655065742049767\n",
      "Epoch 14/30 training...\n"
     ]
    },
    {
     "data": {
      "application/vnd.jupyter.widget-view+json": {
       "model_id": "bfa29963bcac4c5e821461975fc1c70a",
       "version_major": 2,
       "version_minor": 0
      },
      "text/plain": [
       "  0%|          | 0/182 [00:00<?, ?it/s]"
      ]
     },
     "metadata": {},
     "output_type": "display_data"
    },
    {
     "name": "stdout",
     "output_type": "stream",
     "text": [
      "9/182 loss:2.1997904062271116  acc:0.58984375\n",
      "19/182 loss:2.234298551082611  acc:0.579296875\n",
      "29/182 loss:2.2323347489039103  acc:0.5822916666666667\n",
      "39/182 loss:2.248507082462311  acc:0.5748046875\n",
      "49/182 loss:2.2452932262420653  acc:0.57796875\n",
      "59/182 loss:2.2479706605275473  acc:0.576953125\n",
      "69/182 loss:2.256667126928057  acc:0.5706473214285714\n",
      "79/182 loss:2.2603859096765517  acc:0.567578125\n",
      "89/182 loss:2.2705819924672443  acc:0.5645833333333333\n",
      "99/182 loss:2.277646150588989  acc:0.563125\n",
      "109/182 loss:2.278252053260803  acc:0.5632102272727273\n",
      "119/182 loss:2.2770234326521557  acc:0.5621744791666666\n",
      "129/182 loss:2.2744467937029325  acc:0.56484375\n",
      "139/182 loss:2.274940071787153  acc:0.565625\n",
      "149/182 loss:2.274374515215556  acc:0.56578125\n",
      "159/182 loss:2.2729615792632103  acc:0.566796875\n",
      "169/182 loss:2.2712550850475535  acc:0.5675551470588235\n",
      "179/182 loss:2.2707682463857863  acc:0.5677951388888889\n",
      "train loss:2.2713116070821555 acc:0.5675977653631284\n",
      "acc:0.09899458626237657 acc5:0.3565351895279232\n",
      "Epoch 15/30 training...\n"
     ]
    },
    {
     "data": {
      "application/vnd.jupyter.widget-view+json": {
       "model_id": "a75fbb94cd8c4ea880302cd173932a7d",
       "version_major": 2,
       "version_minor": 0
      },
      "text/plain": [
       "  0%|          | 0/182 [00:00<?, ?it/s]"
      ]
     },
     "metadata": {},
     "output_type": "display_data"
    },
    {
     "name": "stdout",
     "output_type": "stream",
     "text": [
      "9/182 loss:2.263192129135132  acc:0.58125\n",
      "19/182 loss:2.2510167479515077  acc:0.578515625\n",
      "29/182 loss:2.28202699025472  acc:0.5674479166666667\n",
      "39/182 loss:2.2769985437393188  acc:0.5666015625\n",
      "49/182 loss:2.271022663116455  acc:0.56890625\n",
      "59/182 loss:2.279079329967499  acc:0.567578125\n",
      "69/182 loss:2.280478290149144  acc:0.5646205357142857\n",
      "79/182 loss:2.284757587313652  acc:0.563671875\n",
      "89/182 loss:2.2720733245213824  acc:0.5675347222222222\n",
      "99/182 loss:2.2727071237564087  acc:0.565859375\n",
      "109/182 loss:2.267759318785234  acc:0.5674715909090909\n",
      "119/182 loss:2.2663990199565887  acc:0.5688802083333333\n",
      "129/182 loss:2.26681028512808  acc:0.5685697115384616\n",
      "139/182 loss:2.260250571795872  acc:0.5706473214285714\n",
      "149/182 loss:2.256757197380066  acc:0.5723958333333333\n",
      "159/182 loss:2.254343159496784  acc:0.572021484375\n",
      "169/182 loss:2.2527081181021296  acc:0.5720588235294117\n",
      "179/182 loss:2.2544675641589693  acc:0.5709635416666666\n",
      "train loss:2.2549778222320516 acc:0.5708207993124195\n",
      "acc:0.24091260642251208 acc5:0.5835266820884728\n",
      "Epoch 16/30 training...\n"
     ]
    },
    {
     "data": {
      "application/vnd.jupyter.widget-view+json": {
       "model_id": "b2e4deff81ec46eea19c9dfa558865dc",
       "version_major": 2,
       "version_minor": 0
      },
      "text/plain": [
       "  0%|          | 0/182 [00:00<?, ?it/s]"
      ]
     },
     "metadata": {},
     "output_type": "display_data"
    },
    {
     "name": "stdout",
     "output_type": "stream",
     "text": [
      "9/182 loss:2.2707129240036013  acc:0.5671875\n"
     ]
    },
    {
     "ename": "KeyboardInterrupt",
     "evalue": "",
     "output_type": "error",
     "traceback": [
      "\u001b[0;31m---------------------------------------------------------------------------\u001b[0m",
      "\u001b[0;31mKeyboardInterrupt\u001b[0m                         Traceback (most recent call last)",
      "\u001b[0;32m<ipython-input-1-17ace836f327>\u001b[0m in \u001b[0;36m<module>\u001b[0;34m\u001b[0m\n\u001b[1;32m     21\u001b[0m \u001b[0margs\u001b[0m \u001b[0;34m=\u001b[0m \u001b[0mAttributeDict\u001b[0m\u001b[0;34m(\u001b[0m\u001b[0margs\u001b[0m\u001b[0;34m)\u001b[0m\u001b[0;34m\u001b[0m\u001b[0;34m\u001b[0m\u001b[0m\n\u001b[1;32m     22\u001b[0m \u001b[0;34m\u001b[0m\u001b[0m\n\u001b[0;32m---> 23\u001b[0;31m \u001b[0mtrain\u001b[0m\u001b[0;34m(\u001b[0m\u001b[0margs\u001b[0m\u001b[0;34m)\u001b[0m\u001b[0;34m\u001b[0m\u001b[0;34m\u001b[0m\u001b[0m\n\u001b[0m",
      "\u001b[0;32m~/projects/classify-leaves/src/train.py\u001b[0m in \u001b[0;36mtrain\u001b[0;34m(args)\u001b[0m\n\u001b[1;32m    185\u001b[0m             \u001b[0mscheduler_warmup\u001b[0m\u001b[0;34m.\u001b[0m\u001b[0mstep\u001b[0m\u001b[0;34m(\u001b[0m\u001b[0;34m)\u001b[0m\u001b[0;34m\u001b[0m\u001b[0;34m\u001b[0m\u001b[0m\n\u001b[1;32m    186\u001b[0m \u001b[0;34m\u001b[0m\u001b[0m\n\u001b[0;32m--> 187\u001b[0;31m             \u001b[0mloss\u001b[0m\u001b[0;34m,\u001b[0m \u001b[0macc\u001b[0m \u001b[0;34m=\u001b[0m \u001b[0mupdater\u001b[0m\u001b[0;34m.\u001b[0m\u001b[0mtrain_one_epoch\u001b[0m\u001b[0;34m(\u001b[0m\u001b[0mmodel\u001b[0m\u001b[0;34m)\u001b[0m\u001b[0;34m\u001b[0m\u001b[0;34m\u001b[0m\u001b[0m\n\u001b[0m\u001b[1;32m    188\u001b[0m             \u001b[0mwriter\u001b[0m\u001b[0;34m.\u001b[0m\u001b[0madd_scalar\u001b[0m\u001b[0;34m(\u001b[0m\u001b[0;34mf\"fold={fold}-loss\"\u001b[0m\u001b[0;34m,\u001b[0m \u001b[0mloss\u001b[0m\u001b[0;34m,\u001b[0m \u001b[0mi\u001b[0m\u001b[0;34m)\u001b[0m\u001b[0;34m\u001b[0m\u001b[0;34m\u001b[0m\u001b[0m\n\u001b[1;32m    189\u001b[0m             \u001b[0mwriter\u001b[0m\u001b[0;34m.\u001b[0m\u001b[0madd_scalar\u001b[0m\u001b[0;34m(\u001b[0m\u001b[0;34mf\"fold={fold}-train_acc\"\u001b[0m\u001b[0;34m,\u001b[0m \u001b[0macc\u001b[0m\u001b[0;34m,\u001b[0m \u001b[0mi\u001b[0m\u001b[0;34m)\u001b[0m\u001b[0;34m\u001b[0m\u001b[0;34m\u001b[0m\u001b[0m\n",
      "\u001b[0;32m~/projects/classify-leaves/src/train.py\u001b[0m in \u001b[0;36mtrain_one_epoch\u001b[0;34m(self, model)\u001b[0m\n\u001b[1;32m     74\u001b[0m             \u001b[0mloss\u001b[0m \u001b[0;34m=\u001b[0m \u001b[0mself\u001b[0m\u001b[0;34m.\u001b[0m\u001b[0mloss_fn\u001b[0m\u001b[0;34m(\u001b[0m\u001b[0mout\u001b[0m\u001b[0;34m,\u001b[0m \u001b[0mlabels\u001b[0m\u001b[0;34m)\u001b[0m\u001b[0;34m\u001b[0m\u001b[0;34m\u001b[0m\u001b[0m\n\u001b[1;32m     75\u001b[0m             \u001b[0mloss\u001b[0m\u001b[0;34m.\u001b[0m\u001b[0mbackward\u001b[0m\u001b[0;34m(\u001b[0m\u001b[0;34m)\u001b[0m\u001b[0;34m\u001b[0m\u001b[0;34m\u001b[0m\u001b[0m\n\u001b[0;32m---> 76\u001b[0;31m             \u001b[0mself\u001b[0m\u001b[0;34m.\u001b[0m\u001b[0moptimizer\u001b[0m\u001b[0;34m.\u001b[0m\u001b[0mstep\u001b[0m\u001b[0;34m(\u001b[0m\u001b[0;34m)\u001b[0m\u001b[0;34m\u001b[0m\u001b[0;34m\u001b[0m\u001b[0m\n\u001b[0m\u001b[1;32m     77\u001b[0m             \u001b[0;32mwith\u001b[0m \u001b[0mtorch\u001b[0m\u001b[0;34m.\u001b[0m\u001b[0mno_grad\u001b[0m\u001b[0;34m(\u001b[0m\u001b[0;34m)\u001b[0m\u001b[0;34m:\u001b[0m\u001b[0;34m\u001b[0m\u001b[0;34m\u001b[0m\u001b[0m\n\u001b[1;32m     78\u001b[0m                 metric.add(\n",
      "\u001b[0;32m~/anaconda3/lib/python3.8/site-packages/torch/optim/lr_scheduler.py\u001b[0m in \u001b[0;36mwrapper\u001b[0;34m(*args, **kwargs)\u001b[0m\n\u001b[1;32m     63\u001b[0m                 \u001b[0minstance\u001b[0m\u001b[0;34m.\u001b[0m\u001b[0m_step_count\u001b[0m \u001b[0;34m+=\u001b[0m \u001b[0;36m1\u001b[0m\u001b[0;34m\u001b[0m\u001b[0;34m\u001b[0m\u001b[0m\n\u001b[1;32m     64\u001b[0m                 \u001b[0mwrapped\u001b[0m \u001b[0;34m=\u001b[0m \u001b[0mfunc\u001b[0m\u001b[0;34m.\u001b[0m\u001b[0m__get__\u001b[0m\u001b[0;34m(\u001b[0m\u001b[0minstance\u001b[0m\u001b[0;34m,\u001b[0m \u001b[0mcls\u001b[0m\u001b[0;34m)\u001b[0m\u001b[0;34m\u001b[0m\u001b[0;34m\u001b[0m\u001b[0m\n\u001b[0;32m---> 65\u001b[0;31m                 \u001b[0;32mreturn\u001b[0m \u001b[0mwrapped\u001b[0m\u001b[0;34m(\u001b[0m\u001b[0;34m*\u001b[0m\u001b[0margs\u001b[0m\u001b[0;34m,\u001b[0m \u001b[0;34m**\u001b[0m\u001b[0mkwargs\u001b[0m\u001b[0;34m)\u001b[0m\u001b[0;34m\u001b[0m\u001b[0;34m\u001b[0m\u001b[0m\n\u001b[0m\u001b[1;32m     66\u001b[0m \u001b[0;34m\u001b[0m\u001b[0m\n\u001b[1;32m     67\u001b[0m             \u001b[0;31m# Note that the returned function here is no longer a bound method,\u001b[0m\u001b[0;34m\u001b[0m\u001b[0;34m\u001b[0m\u001b[0;34m\u001b[0m\u001b[0m\n",
      "\u001b[0;32m~/anaconda3/lib/python3.8/site-packages/torch/optim/optimizer.py\u001b[0m in \u001b[0;36mwrapper\u001b[0;34m(*args, **kwargs)\u001b[0m\n\u001b[1;32m     87\u001b[0m                 \u001b[0mprofile_name\u001b[0m \u001b[0;34m=\u001b[0m \u001b[0;34m\"Optimizer.step#{}.step\"\u001b[0m\u001b[0;34m.\u001b[0m\u001b[0mformat\u001b[0m\u001b[0;34m(\u001b[0m\u001b[0mobj\u001b[0m\u001b[0;34m.\u001b[0m\u001b[0m__class__\u001b[0m\u001b[0;34m.\u001b[0m\u001b[0m__name__\u001b[0m\u001b[0;34m)\u001b[0m\u001b[0;34m\u001b[0m\u001b[0;34m\u001b[0m\u001b[0m\n\u001b[1;32m     88\u001b[0m                 \u001b[0;32mwith\u001b[0m \u001b[0mtorch\u001b[0m\u001b[0;34m.\u001b[0m\u001b[0mautograd\u001b[0m\u001b[0;34m.\u001b[0m\u001b[0mprofiler\u001b[0m\u001b[0;34m.\u001b[0m\u001b[0mrecord_function\u001b[0m\u001b[0;34m(\u001b[0m\u001b[0mprofile_name\u001b[0m\u001b[0;34m)\u001b[0m\u001b[0;34m:\u001b[0m\u001b[0;34m\u001b[0m\u001b[0;34m\u001b[0m\u001b[0m\n\u001b[0;32m---> 89\u001b[0;31m                     \u001b[0;32mreturn\u001b[0m \u001b[0mfunc\u001b[0m\u001b[0;34m(\u001b[0m\u001b[0;34m*\u001b[0m\u001b[0margs\u001b[0m\u001b[0;34m,\u001b[0m \u001b[0;34m**\u001b[0m\u001b[0mkwargs\u001b[0m\u001b[0;34m)\u001b[0m\u001b[0;34m\u001b[0m\u001b[0;34m\u001b[0m\u001b[0m\n\u001b[0m\u001b[1;32m     90\u001b[0m             \u001b[0;32mreturn\u001b[0m \u001b[0mwrapper\u001b[0m\u001b[0;34m\u001b[0m\u001b[0;34m\u001b[0m\u001b[0m\n\u001b[1;32m     91\u001b[0m \u001b[0;34m\u001b[0m\u001b[0m\n",
      "\u001b[0;32m~/anaconda3/lib/python3.8/site-packages/torch/autograd/grad_mode.py\u001b[0m in \u001b[0;36mdecorate_context\u001b[0;34m(*args, **kwargs)\u001b[0m\n\u001b[1;32m     25\u001b[0m         \u001b[0;32mdef\u001b[0m \u001b[0mdecorate_context\u001b[0m\u001b[0;34m(\u001b[0m\u001b[0;34m*\u001b[0m\u001b[0margs\u001b[0m\u001b[0;34m,\u001b[0m \u001b[0;34m**\u001b[0m\u001b[0mkwargs\u001b[0m\u001b[0;34m)\u001b[0m\u001b[0;34m:\u001b[0m\u001b[0;34m\u001b[0m\u001b[0;34m\u001b[0m\u001b[0m\n\u001b[1;32m     26\u001b[0m             \u001b[0;32mwith\u001b[0m \u001b[0mself\u001b[0m\u001b[0;34m.\u001b[0m\u001b[0m__class__\u001b[0m\u001b[0;34m(\u001b[0m\u001b[0;34m)\u001b[0m\u001b[0;34m:\u001b[0m\u001b[0;34m\u001b[0m\u001b[0;34m\u001b[0m\u001b[0m\n\u001b[0;32m---> 27\u001b[0;31m                 \u001b[0;32mreturn\u001b[0m \u001b[0mfunc\u001b[0m\u001b[0;34m(\u001b[0m\u001b[0;34m*\u001b[0m\u001b[0margs\u001b[0m\u001b[0;34m,\u001b[0m \u001b[0;34m**\u001b[0m\u001b[0mkwargs\u001b[0m\u001b[0;34m)\u001b[0m\u001b[0;34m\u001b[0m\u001b[0;34m\u001b[0m\u001b[0m\n\u001b[0m\u001b[1;32m     28\u001b[0m         \u001b[0;32mreturn\u001b[0m \u001b[0mcast\u001b[0m\u001b[0;34m(\u001b[0m\u001b[0mF\u001b[0m\u001b[0;34m,\u001b[0m \u001b[0mdecorate_context\u001b[0m\u001b[0;34m)\u001b[0m\u001b[0;34m\u001b[0m\u001b[0;34m\u001b[0m\u001b[0m\n\u001b[1;32m     29\u001b[0m \u001b[0;34m\u001b[0m\u001b[0m\n",
      "\u001b[0;32m~/anaconda3/lib/python3.8/site-packages/torch/optim/adam.py\u001b[0m in \u001b[0;36mstep\u001b[0;34m(self, closure)\u001b[0m\n\u001b[1;32m    106\u001b[0m \u001b[0;34m\u001b[0m\u001b[0m\n\u001b[1;32m    107\u001b[0m             \u001b[0mbeta1\u001b[0m\u001b[0;34m,\u001b[0m \u001b[0mbeta2\u001b[0m \u001b[0;34m=\u001b[0m \u001b[0mgroup\u001b[0m\u001b[0;34m[\u001b[0m\u001b[0;34m'betas'\u001b[0m\u001b[0;34m]\u001b[0m\u001b[0;34m\u001b[0m\u001b[0;34m\u001b[0m\u001b[0m\n\u001b[0;32m--> 108\u001b[0;31m             F.adam(params_with_grad,\n\u001b[0m\u001b[1;32m    109\u001b[0m                    \u001b[0mgrads\u001b[0m\u001b[0;34m,\u001b[0m\u001b[0;34m\u001b[0m\u001b[0;34m\u001b[0m\u001b[0m\n\u001b[1;32m    110\u001b[0m                    \u001b[0mexp_avgs\u001b[0m\u001b[0;34m,\u001b[0m\u001b[0;34m\u001b[0m\u001b[0;34m\u001b[0m\u001b[0m\n",
      "\u001b[0;32m~/anaconda3/lib/python3.8/site-packages/torch/optim/_functional.py\u001b[0m in \u001b[0;36madam\u001b[0;34m(params, grads, exp_avgs, exp_avg_sqs, max_exp_avg_sqs, state_steps, amsgrad, beta1, beta2, lr, weight_decay, eps)\u001b[0m\n\u001b[1;32m     82\u001b[0m \u001b[0;34m\u001b[0m\u001b[0m\n\u001b[1;32m     83\u001b[0m         \u001b[0;31m# Decay the first and second moment running average coefficient\u001b[0m\u001b[0;34m\u001b[0m\u001b[0;34m\u001b[0m\u001b[0;34m\u001b[0m\u001b[0m\n\u001b[0;32m---> 84\u001b[0;31m         \u001b[0mexp_avg\u001b[0m\u001b[0;34m.\u001b[0m\u001b[0mmul_\u001b[0m\u001b[0;34m(\u001b[0m\u001b[0mbeta1\u001b[0m\u001b[0;34m)\u001b[0m\u001b[0;34m.\u001b[0m\u001b[0madd_\u001b[0m\u001b[0;34m(\u001b[0m\u001b[0mgrad\u001b[0m\u001b[0;34m,\u001b[0m \u001b[0malpha\u001b[0m\u001b[0;34m=\u001b[0m\u001b[0;36m1\u001b[0m \u001b[0;34m-\u001b[0m \u001b[0mbeta1\u001b[0m\u001b[0;34m)\u001b[0m\u001b[0;34m\u001b[0m\u001b[0;34m\u001b[0m\u001b[0m\n\u001b[0m\u001b[1;32m     85\u001b[0m         \u001b[0mexp_avg_sq\u001b[0m\u001b[0;34m.\u001b[0m\u001b[0mmul_\u001b[0m\u001b[0;34m(\u001b[0m\u001b[0mbeta2\u001b[0m\u001b[0;34m)\u001b[0m\u001b[0;34m.\u001b[0m\u001b[0maddcmul_\u001b[0m\u001b[0;34m(\u001b[0m\u001b[0mgrad\u001b[0m\u001b[0;34m,\u001b[0m \u001b[0mgrad\u001b[0m\u001b[0;34m,\u001b[0m \u001b[0mvalue\u001b[0m\u001b[0;34m=\u001b[0m\u001b[0;36m1\u001b[0m \u001b[0;34m-\u001b[0m \u001b[0mbeta2\u001b[0m\u001b[0;34m)\u001b[0m\u001b[0;34m\u001b[0m\u001b[0;34m\u001b[0m\u001b[0m\n\u001b[1;32m     86\u001b[0m         \u001b[0;32mif\u001b[0m \u001b[0mamsgrad\u001b[0m\u001b[0;34m:\u001b[0m\u001b[0;34m\u001b[0m\u001b[0;34m\u001b[0m\u001b[0m\n",
      "\u001b[0;31mKeyboardInterrupt\u001b[0m: "
     ]
    },
    {
     "data": {
      "text/plain": [
       "<Figure size 432x288 with 0 Axes>"
      ]
     },
     "metadata": {},
     "output_type": "display_data"
    }
   ],
   "source": [
    "from train import train\n",
    "\n",
    "args = {\n",
    "    'batch_size': 128,\n",
    "    'model': 'seresnext50',\n",
    "    'freeze': False,\n",
    "    'eval_all': True,\n",
    "    'data_root': '../dataset/classify-leaves',\n",
    "    'val_ratio': 0.1,\n",
    "    'fold': 10,\n",
    "    'lr': 2e-5,\n",
    "    'epoch': 20,\n",
    "    'resume': True,\n",
    "    'verbose': True,\n",
    "    'ckpt_path': 'model.pth'\n",
    "}\n",
    "class AttributeDict(dict):\n",
    "    __slots__ = () \n",
    "    __getattr__ = dict.__getitem__\n",
    "    __setattr__ = dict.__setitem__\n",
    "args = AttributeDict(args)\n",
    "\n",
    "train(args)"
   ]
  },
  {
   "cell_type": "code",
   "execution_count": null,
   "metadata": {},
   "outputs": [],
   "source": []
  }
 ],
 "metadata": {
  "kernelspec": {
   "display_name": "Python 3",
   "language": "python",
   "name": "python3"
  },
  "language_info": {
   "codemirror_mode": {
    "name": "ipython",
    "version": 3
   },
   "file_extension": ".py",
   "mimetype": "text/x-python",
   "name": "python",
   "nbconvert_exporter": "python",
   "pygments_lexer": "ipython3",
   "version": "3.8.8"
  }
 },
 "nbformat": 4,
 "nbformat_minor": 2
}
